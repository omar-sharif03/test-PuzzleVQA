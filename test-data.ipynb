{
 "cells": [
  {
   "cell_type": "code",
   "execution_count": null,
   "metadata": {},
   "outputs": [],
   "source": [
    "import os, json\n",
    "import numpy as np\n",
    "from argparse import ArgumentParser\n",
    "from tqdm import tqdm\n",
    "from collections import defaultdict\n",
    "import pandas as pd\n",
    "from pprint import pprint\n",
    "from datetime import datetime\n",
    "import copy\n",
    "import pickle\n",
    "from ast import literal_eval\n",
    "import re, string\n",
    "\n",
    "import io\n",
    "from PIL import Image\n",
    "import os\n",
    "import openpyxl\n",
    "from openpyxl import Workbook\n",
    "from openpyxl.drawing.image import Image as OpenPyXLImage\n",
    "from openpyxl.drawing.image import Image as OpenPyxlImage\n",
    "from openpyxl.drawing.image import Image as ExcelImage\n",
    "\n",
    "\n",
    "from datasets import load_dataset"
   ]
  },
  {
   "cell_type": "code",
   "execution_count": 45,
   "metadata": {},
   "outputs": [
    {
     "name": "stdout",
     "output_type": "stream",
     "text": [
      "{'image': Image(mode=None, decode=True, id=None), 'category': Value(dtype='string', id=None), 'question': Value(dtype='string', id=None), 'options': Value(dtype='string', id=None), 'answer': Value(dtype='string', id=None), 'caption': Value(dtype='string', id=None), 'explanation': Value(dtype='string', id=None), 'deduction': Value(dtype='string', id=None)}\n"
     ]
    },
    {
     "data": {
      "text/plain": [
       "Dataset({\n",
       "    features: ['image', 'category', 'question', 'options', 'answer', 'caption', 'explanation', 'deduction'],\n",
       "    num_rows: 2000\n",
       "})"
      ]
     },
     "execution_count": 45,
     "metadata": {},
     "output_type": "execute_result"
    }
   ],
   "source": [
    "from datasets import load_dataset\n",
    "ds = load_dataset('declare-lab/puzzlevqa')\n",
    "print(ds['train'].features)\n",
    "ds['train']"
   ]
  },
  {
   "cell_type": "code",
   "execution_count": null,
   "metadata": {},
   "outputs": [
    {
     "ename": "AttributeError",
     "evalue": "'DatasetDict' object has no attribute 'to_pandas'",
     "output_type": "error",
     "traceback": [
      "\u001b[31m---------------------------------------------------------------------------\u001b[39m",
      "\u001b[31mAttributeError\u001b[39m                            Traceback (most recent call last)",
      "\u001b[36mCell\u001b[39m\u001b[36m \u001b[39m\u001b[32mIn[42]\u001b[39m\u001b[32m, line 1\u001b[39m\n\u001b[32m----> \u001b[39m\u001b[32m1\u001b[39m df = \u001b[43mds\u001b[49m\u001b[43m.\u001b[49m\u001b[43mto_pandas\u001b[49m()\n\u001b[32m      2\u001b[39m df\n",
      "\u001b[31mAttributeError\u001b[39m: 'DatasetDict' object has no attribute 'to_pandas'"
     ]
    }
   ],
   "source": [
    "df = ds['train'].to_pandas()\n",
    "df"
   ]
  },
  {
   "cell_type": "code",
   "execution_count": null,
   "metadata": {},
   "outputs": [],
   "source": []
  }
 ],
 "metadata": {
  "kernelspec": {
   "display_name": "transformers_env",
   "language": "python",
   "name": "python3"
  },
  "language_info": {
   "codemirror_mode": {
    "name": "ipython",
    "version": 3
   },
   "file_extension": ".py",
   "mimetype": "text/x-python",
   "name": "python",
   "nbconvert_exporter": "python",
   "pygments_lexer": "ipython3",
   "version": "3.12.7"
  }
 },
 "nbformat": 4,
 "nbformat_minor": 2
}
