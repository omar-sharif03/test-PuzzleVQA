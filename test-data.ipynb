{
 "cells": [
  {
   "cell_type": "code",
   "execution_count": 1,
   "metadata": {},
   "outputs": [
    {
     "name": "stderr",
     "output_type": "stream",
     "text": [
      "/home/ubuntu/anaconda3/envs/transformers_env/lib/python3.12/site-packages/tqdm/auto.py:21: TqdmWarning: IProgress not found. Please update jupyter and ipywidgets. See https://ipywidgets.readthedocs.io/en/stable/user_install.html\n",
      "  from .autonotebook import tqdm as notebook_tqdm\n"
     ]
    }
   ],
   "source": [
    "import os, json\n",
    "import numpy as np\n",
    "from argparse import ArgumentParser\n",
    "from tqdm import tqdm\n",
    "from collections import defaultdict\n",
    "import pandas as pd\n",
    "from pprint import pprint\n",
    "from datetime import datetime\n",
    "import copy\n",
    "import pickle\n",
    "from ast import literal_eval\n",
    "import re, string\n",
    "\n",
    "import io\n",
    "from PIL import Image\n",
    "import os\n",
    "import openpyxl\n",
    "from openpyxl import Workbook\n",
    "from openpyxl.drawing.image import Image as OpenPyXLImage\n",
    "from openpyxl.drawing.image import Image as OpenPyxlImage\n",
    "from openpyxl.drawing.image import Image as ExcelImage\n",
    "\n",
    "\n",
    "from datasets import load_dataset"
   ]
  },
  {
   "cell_type": "code",
   "execution_count": 2,
   "metadata": {},
   "outputs": [
    {
     "name": "stdout",
     "output_type": "stream",
     "text": [
      "{'image': Image(mode=None, decode=True, id=None), 'category': Value(dtype='string', id=None), 'question': Value(dtype='string', id=None), 'options': Value(dtype='string', id=None), 'answer': Value(dtype='string', id=None), 'caption': Value(dtype='string', id=None), 'explanation': Value(dtype='string', id=None), 'deduction': Value(dtype='string', id=None)}\n"
     ]
    },
    {
     "data": {
      "text/plain": [
       "Dataset({\n",
       "    features: ['image', 'category', 'question', 'options', 'answer', 'caption', 'explanation', 'deduction'],\n",
       "    num_rows: 2000\n",
       "})"
      ]
     },
     "execution_count": 2,
     "metadata": {},
     "output_type": "execute_result"
    }
   ],
   "source": [
    "from datasets import load_dataset\n",
    "ds = load_dataset('declare-lab/puzzlevqa')\n",
    "print(ds['train'].features)\n",
    "ds['train']"
   ]
  },
  {
   "cell_type": "code",
   "execution_count": 3,
   "metadata": {},
   "outputs": [
    {
     "data": {
      "text/plain": [
       "{'image': [<PIL.PngImagePlugin.PngImageFile image mode=RGB size=512x512>,\n",
       "  <PIL.PngImagePlugin.PngImageFile image mode=RGB size=512x512>],\n",
       " 'category': ['color_overlap_squares', 'shape_reflect'],\n",
       " 'question': ['What is the missing color of the part denoted with a question mark?',\n",
       "  'What is the missing shape denoted by a question mark?'],\n",
       " 'options': [\"['orange', 'green', 'blue', 'yellow']\",\n",
       "  \"['pentagon', 'hexagon', 'triangle', 'square']\"],\n",
       " 'answer': ['yellow', 'triangle'],\n",
       " 'caption': [\"There are 3 squares which overlap each other in the image. The color of the squares are ['red', 'blue', '?']. The part where the first and second squares overlap is purple. The part where the second and third squares overlap is green.\",\n",
       "  \"There are six shapes in the image separated by a line. In the top part there are ['triangle', 'hexagon', 'pentagon']. In the bottom part there are ['?', 'hexagon', 'pentagon'].\"],\n",
       " 'explanation': ['We observe that the red and blue squares overlap to form purple. Hence, the pattern is that the color of the part where two squares overlap is determined by mixing the two colors.',\n",
       "  'We observe that the hexagon is reflected across the line as a hexagon. Similarly, the pentagon is reflected as a pentagon. Hence, the pattern is that each shape in the top part is reflected in the bottom part.'],\n",
       " 'deduction': ['Based on the pattern that the color of the part where two squares overlap is determined by mixing the two colors, the missing color of the part which overlaps with blue to form green should be yellow.',\n",
       "  'Based on the pattern that each shape in the top part is reflected in the bottom part, the missing shape which is reflected from a triangle part should be a triangle.']}"
      ]
     },
     "execution_count": 3,
     "metadata": {},
     "output_type": "execute_result"
    }
   ],
   "source": [
    "ds['train'][:2]"
   ]
  },
  {
   "cell_type": "code",
   "execution_count": null,
   "metadata": {},
   "outputs": [],
   "source": []
  }
 ],
 "metadata": {
  "kernelspec": {
   "display_name": "transformers_env",
   "language": "python",
   "name": "python3"
  },
  "language_info": {
   "codemirror_mode": {
    "name": "ipython",
    "version": 3
   },
   "file_extension": ".py",
   "mimetype": "text/x-python",
   "name": "python",
   "nbconvert_exporter": "python",
   "pygments_lexer": "ipython3",
   "version": "3.12.2"
  }
 },
 "nbformat": 4,
 "nbformat_minor": 2
}
